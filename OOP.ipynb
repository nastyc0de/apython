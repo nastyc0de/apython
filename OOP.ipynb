{
  "nbformat": 4,
  "nbformat_minor": 0,
  "metadata": {
    "colab": {
      "name": "OOP",
      "provenance": [],
      "collapsed_sections": [],
      "authorship_tag": "ABX9TyNZ/Qf/ShVMpFjhTisIw9lF",
      "include_colab_link": true
    },
    "kernelspec": {
      "name": "python3",
      "display_name": "Python 3"
    },
    "language_info": {
      "name": "python"
    }
  },
  "cells": [
    {
      "cell_type": "markdown",
      "metadata": {
        "id": "view-in-github",
        "colab_type": "text"
      },
      "source": [
        "<a href=\"https://colab.research.google.com/github/nastyc0de/apython/blob/master/OOP.ipynb\" target=\"_parent\"><img src=\"https://colab.research.google.com/assets/colab-badge.svg\" alt=\"Open In Colab\"/></a>"
      ]
    },
    {
      "cell_type": "code",
      "metadata": {
        "id": "43T8qsB81uyQ"
      },
      "source": [
        "class Point:\n",
        "  def __init__(self, x, y):\n",
        "    self.x = x\n",
        "    self.y = y\n",
        "  def falls_in_rectangle(self, rectangle):\n",
        "    if rectangle.lowleft.x < self.x < rectangle.upright.x and rectangle.lowleft.y < self.y < rectangle.upright.y:\n",
        "      return True\n",
        "    else:\n",
        "      return False\n",
        "  def distance_from_points(self, point):\n",
        "    return ((self.x - point.x)**2 + (self.y - point.y)**2) ** 0.5\n"
      ],
      "execution_count": 8,
      "outputs": []
    },
    {
      "cell_type": "code",
      "metadata": {
        "id": "9-x7_9cE_R5C"
      },
      "source": [
        "class Rectangle:\n",
        "  def __init__(self, lowleft, upright):\n",
        "    self.lowleft = lowleft\n",
        "    self.upright = upright"
      ],
      "execution_count": 9,
      "outputs": []
    },
    {
      "cell_type": "code",
      "metadata": {
        "id": "QXEswM2b_swL"
      },
      "source": [
        "rectanglex = Rectangle(Point(4,6), Point(2,5))"
      ],
      "execution_count": 11,
      "outputs": []
    },
    {
      "cell_type": "code",
      "metadata": {
        "id": "CL3x4v-NB7Dh"
      },
      "source": [
        "point1 = Point(10,2)\n",
        "point2 = Point(3,6)"
      ],
      "execution_count": 12,
      "outputs": []
    },
    {
      "cell_type": "code",
      "metadata": {
        "colab": {
          "base_uri": "https://localhost:8080/"
        },
        "id": "LG1JSlKBCBOX",
        "outputId": "7a44c880-23b7-46cb-e5c7-d53bb98669c5"
      },
      "source": [
        "print(point1)"
      ],
      "execution_count": 5,
      "outputs": [
        {
          "output_type": "stream",
          "text": [
            "<__main__.Point object at 0x7fe9e39e2490>\n"
          ],
          "name": "stdout"
        }
      ]
    },
    {
      "cell_type": "code",
      "metadata": {
        "colab": {
          "base_uri": "https://localhost:8080/"
        },
        "id": "XKUesH38CD9I",
        "outputId": "573ad69c-760f-4e20-a9e7-127e6b9f869e"
      },
      "source": [
        "point1.falls_in_rectangle(rectanglex)"
      ],
      "execution_count": 13,
      "outputs": [
        {
          "output_type": "execute_result",
          "data": {
            "text/plain": [
              "False"
            ]
          },
          "metadata": {
            "tags": []
          },
          "execution_count": 13
        }
      ]
    },
    {
      "cell_type": "code",
      "metadata": {
        "id": "Or2XxFyFJIen",
        "colab": {
          "base_uri": "https://localhost:8080/"
        },
        "outputId": "59fa8ee6-c8fb-4ac5-d994-732371807519"
      },
      "source": [
        "point1.distance_from_points(point2)"
      ],
      "execution_count": 7,
      "outputs": [
        {
          "output_type": "execute_result",
          "data": {
            "text/plain": [
              "8.06225774829855"
            ]
          },
          "metadata": {
            "tags": []
          },
          "execution_count": 7
        }
      ]
    },
    {
      "cell_type": "code",
      "metadata": {
        "id": "rH-oOVeqJOzz"
      },
      "source": [
        ""
      ],
      "execution_count": null,
      "outputs": []
    }
  ]
}