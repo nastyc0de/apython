{
  "nbformat": 4,
  "nbformat_minor": 0,
  "metadata": {
    "colab": {
      "name": "OOP",
      "provenance": [],
      "collapsed_sections": [],
      "authorship_tag": "ABX9TyPZj1gHNA4MNuJgge585Kxs",
      "include_colab_link": true
    },
    "kernelspec": {
      "name": "python3",
      "display_name": "Python 3"
    },
    "language_info": {
      "name": "python"
    }
  },
  "cells": [
    {
      "cell_type": "markdown",
      "metadata": {
        "id": "view-in-github",
        "colab_type": "text"
      },
      "source": [
        "<a href=\"https://colab.research.google.com/github/nastyc0de/apython/blob/master/OOP.ipynb\" target=\"_parent\"><img src=\"https://colab.research.google.com/assets/colab-badge.svg\" alt=\"Open In Colab\"/></a>"
      ]
    },
    {
      "cell_type": "code",
      "metadata": {
        "id": "43T8qsB81uyQ"
      },
      "source": [
        "class Point:\n",
        "  def __init__(self, x, y):\n",
        "    self.x = x\n",
        "    self.y = y\n",
        "  def falls_in_rectangle(self, upright, lowleft):\n",
        "    if lowleft[0] < self.x < upright[0] and lowleft[1] < self.y < upright[1]:\n",
        "      return True\n",
        "    else:\n",
        "      return False\n",
        "  def distance_from_points(self, point):\n",
        "    return ((self.x - point.x)**2 + (self.y - point.y)**2) ** 0.5\n"
      ],
      "execution_count": null,
      "outputs": []
    },
    {
      "cell_type": "code",
      "metadata": {
        "id": "CL3x4v-NB7Dh"
      },
      "source": [
        "point1 = Point(10,2)\n",
        "point2 = Point(3,6)"
      ],
      "execution_count": null,
      "outputs": []
    },
    {
      "cell_type": "code",
      "metadata": {
        "colab": {
          "base_uri": "https://localhost:8080/"
        },
        "id": "LG1JSlKBCBOX",
        "outputId": "046d72b1-8ccd-4753-f9de-95a66e777db2"
      },
      "source": [
        "print(point1)"
      ],
      "execution_count": null,
      "outputs": [
        {
          "output_type": "stream",
          "text": [
            "<__main__.Point object at 0x7f13eb29d4d0>\n"
          ],
          "name": "stdout"
        }
      ]
    },
    {
      "cell_type": "code",
      "metadata": {
        "colab": {
          "base_uri": "https://localhost:8080/"
        },
        "id": "XKUesH38CD9I",
        "outputId": "7de4fd96-11b0-44a7-9ee1-50f423f1d5aa"
      },
      "source": [
        "point1.falls_in_rectangle((3,5),(4,6))"
      ],
      "execution_count": null,
      "outputs": [
        {
          "output_type": "execute_result",
          "data": {
            "text/plain": [
              "False"
            ]
          },
          "metadata": {
            "tags": []
          },
          "execution_count": 8
        }
      ]
    },
    {
      "cell_type": "code",
      "metadata": {
        "id": "Or2XxFyFJIen",
        "colab": {
          "base_uri": "https://localhost:8080/"
        },
        "outputId": "35808e98-4ed8-4136-dd4d-325bf5cd58f5"
      },
      "source": [
        "point1.distance_from_points(point2)"
      ],
      "execution_count": null,
      "outputs": [
        {
          "output_type": "execute_result",
          "data": {
            "text/plain": [
              "8.06225774829855"
            ]
          },
          "metadata": {
            "tags": []
          },
          "execution_count": 11
        }
      ]
    },
    {
      "cell_type": "code",
      "metadata": {
        "id": "rH-oOVeqJOzz"
      },
      "source": [
        ""
      ],
      "execution_count": null,
      "outputs": []
    }
  ]
}